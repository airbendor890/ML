{
 "cells": [
  {
   "cell_type": "markdown",
   "id": "445b01fa",
   "metadata": {},
   "source": [
    "**Exploratory Data Analysis:**"
   ]
  },
  {
   "cell_type": "code",
   "execution_count": 3,
   "id": "a343aa21",
   "metadata": {},
   "outputs": [],
   "source": [
    "import pandas as pd\n",
    "import numpy as np\n",
    "import matplotlib.pyplot as plt\n",
    "import seaborn as sns"
   ]
  },
  {
   "cell_type": "code",
   "execution_count": 5,
   "id": "491491ce",
   "metadata": {},
   "outputs": [
    {
     "data": {
      "text/html": [
       "<div>\n",
       "<style scoped>\n",
       "    .dataframe tbody tr th:only-of-type {\n",
       "        vertical-align: middle;\n",
       "    }\n",
       "\n",
       "    .dataframe tbody tr th {\n",
       "        vertical-align: top;\n",
       "    }\n",
       "\n",
       "    .dataframe thead th {\n",
       "        text-align: right;\n",
       "    }\n",
       "</style>\n",
       "<table border=\"1\" class=\"dataframe\">\n",
       "  <thead>\n",
       "    <tr style=\"text-align: right;\">\n",
       "      <th></th>\n",
       "      <th>id</th>\n",
       "      <th>gender</th>\n",
       "      <th>age</th>\n",
       "      <th>hypertension</th>\n",
       "      <th>heart_disease</th>\n",
       "      <th>ever_married</th>\n",
       "      <th>work_type</th>\n",
       "      <th>Residence_type</th>\n",
       "      <th>avg_glucose_level</th>\n",
       "      <th>bmi</th>\n",
       "      <th>smoking_status</th>\n",
       "      <th>stroke</th>\n",
       "    </tr>\n",
       "  </thead>\n",
       "  <tbody>\n",
       "    <tr>\n",
       "      <th>0</th>\n",
       "      <td>30669</td>\n",
       "      <td>Male</td>\n",
       "      <td>3.0</td>\n",
       "      <td>0</td>\n",
       "      <td>0</td>\n",
       "      <td>No</td>\n",
       "      <td>children</td>\n",
       "      <td>Rural</td>\n",
       "      <td>95.12</td>\n",
       "      <td>18.0</td>\n",
       "      <td>NaN</td>\n",
       "      <td>0</td>\n",
       "    </tr>\n",
       "    <tr>\n",
       "      <th>1</th>\n",
       "      <td>30468</td>\n",
       "      <td>Male</td>\n",
       "      <td>58.0</td>\n",
       "      <td>1</td>\n",
       "      <td>0</td>\n",
       "      <td>Yes</td>\n",
       "      <td>Private</td>\n",
       "      <td>Urban</td>\n",
       "      <td>87.96</td>\n",
       "      <td>39.2</td>\n",
       "      <td>never smoked</td>\n",
       "      <td>0</td>\n",
       "    </tr>\n",
       "    <tr>\n",
       "      <th>2</th>\n",
       "      <td>16523</td>\n",
       "      <td>Female</td>\n",
       "      <td>8.0</td>\n",
       "      <td>0</td>\n",
       "      <td>0</td>\n",
       "      <td>No</td>\n",
       "      <td>Private</td>\n",
       "      <td>Urban</td>\n",
       "      <td>110.89</td>\n",
       "      <td>17.6</td>\n",
       "      <td>NaN</td>\n",
       "      <td>0</td>\n",
       "    </tr>\n",
       "    <tr>\n",
       "      <th>3</th>\n",
       "      <td>56543</td>\n",
       "      <td>Female</td>\n",
       "      <td>70.0</td>\n",
       "      <td>0</td>\n",
       "      <td>0</td>\n",
       "      <td>Yes</td>\n",
       "      <td>Private</td>\n",
       "      <td>Rural</td>\n",
       "      <td>69.04</td>\n",
       "      <td>35.9</td>\n",
       "      <td>formerly smoked</td>\n",
       "      <td>0</td>\n",
       "    </tr>\n",
       "    <tr>\n",
       "      <th>4</th>\n",
       "      <td>46136</td>\n",
       "      <td>Male</td>\n",
       "      <td>14.0</td>\n",
       "      <td>0</td>\n",
       "      <td>0</td>\n",
       "      <td>No</td>\n",
       "      <td>Never_worked</td>\n",
       "      <td>Rural</td>\n",
       "      <td>161.28</td>\n",
       "      <td>19.1</td>\n",
       "      <td>NaN</td>\n",
       "      <td>0</td>\n",
       "    </tr>\n",
       "    <tr>\n",
       "      <th>5</th>\n",
       "      <td>32257</td>\n",
       "      <td>Female</td>\n",
       "      <td>47.0</td>\n",
       "      <td>0</td>\n",
       "      <td>0</td>\n",
       "      <td>Yes</td>\n",
       "      <td>Private</td>\n",
       "      <td>Urban</td>\n",
       "      <td>210.95</td>\n",
       "      <td>50.1</td>\n",
       "      <td>NaN</td>\n",
       "      <td>0</td>\n",
       "    </tr>\n",
       "    <tr>\n",
       "      <th>6</th>\n",
       "      <td>52800</td>\n",
       "      <td>Female</td>\n",
       "      <td>52.0</td>\n",
       "      <td>0</td>\n",
       "      <td>0</td>\n",
       "      <td>Yes</td>\n",
       "      <td>Private</td>\n",
       "      <td>Urban</td>\n",
       "      <td>77.59</td>\n",
       "      <td>17.7</td>\n",
       "      <td>formerly smoked</td>\n",
       "      <td>0</td>\n",
       "    </tr>\n",
       "    <tr>\n",
       "      <th>7</th>\n",
       "      <td>41413</td>\n",
       "      <td>Female</td>\n",
       "      <td>75.0</td>\n",
       "      <td>0</td>\n",
       "      <td>1</td>\n",
       "      <td>Yes</td>\n",
       "      <td>Self-employed</td>\n",
       "      <td>Rural</td>\n",
       "      <td>243.53</td>\n",
       "      <td>27.0</td>\n",
       "      <td>never smoked</td>\n",
       "      <td>0</td>\n",
       "    </tr>\n",
       "    <tr>\n",
       "      <th>8</th>\n",
       "      <td>15266</td>\n",
       "      <td>Female</td>\n",
       "      <td>32.0</td>\n",
       "      <td>0</td>\n",
       "      <td>0</td>\n",
       "      <td>Yes</td>\n",
       "      <td>Private</td>\n",
       "      <td>Rural</td>\n",
       "      <td>77.67</td>\n",
       "      <td>32.3</td>\n",
       "      <td>smokes</td>\n",
       "      <td>0</td>\n",
       "    </tr>\n",
       "    <tr>\n",
       "      <th>9</th>\n",
       "      <td>28674</td>\n",
       "      <td>Female</td>\n",
       "      <td>74.0</td>\n",
       "      <td>1</td>\n",
       "      <td>0</td>\n",
       "      <td>Yes</td>\n",
       "      <td>Self-employed</td>\n",
       "      <td>Urban</td>\n",
       "      <td>205.84</td>\n",
       "      <td>54.6</td>\n",
       "      <td>never smoked</td>\n",
       "      <td>0</td>\n",
       "    </tr>\n",
       "  </tbody>\n",
       "</table>\n",
       "</div>"
      ],
      "text/plain": [
       "      id  gender   age  hypertension  heart_disease ever_married  \\\n",
       "0  30669    Male   3.0             0              0           No   \n",
       "1  30468    Male  58.0             1              0          Yes   \n",
       "2  16523  Female   8.0             0              0           No   \n",
       "3  56543  Female  70.0             0              0          Yes   \n",
       "4  46136    Male  14.0             0              0           No   \n",
       "5  32257  Female  47.0             0              0          Yes   \n",
       "6  52800  Female  52.0             0              0          Yes   \n",
       "7  41413  Female  75.0             0              1          Yes   \n",
       "8  15266  Female  32.0             0              0          Yes   \n",
       "9  28674  Female  74.0             1              0          Yes   \n",
       "\n",
       "       work_type Residence_type  avg_glucose_level   bmi   smoking_status  \\\n",
       "0       children          Rural              95.12  18.0              NaN   \n",
       "1        Private          Urban              87.96  39.2     never smoked   \n",
       "2        Private          Urban             110.89  17.6              NaN   \n",
       "3        Private          Rural              69.04  35.9  formerly smoked   \n",
       "4   Never_worked          Rural             161.28  19.1              NaN   \n",
       "5        Private          Urban             210.95  50.1              NaN   \n",
       "6        Private          Urban              77.59  17.7  formerly smoked   \n",
       "7  Self-employed          Rural             243.53  27.0     never smoked   \n",
       "8        Private          Rural              77.67  32.3           smokes   \n",
       "9  Self-employed          Urban             205.84  54.6     never smoked   \n",
       "\n",
       "   stroke  \n",
       "0       0  \n",
       "1       0  \n",
       "2       0  \n",
       "3       0  \n",
       "4       0  \n",
       "5       0  \n",
       "6       0  \n",
       "7       0  \n",
       "8       0  \n",
       "9       0  "
      ]
     },
     "execution_count": 5,
     "metadata": {},
     "output_type": "execute_result"
    }
   ],
   "source": [
    "df=pd.read_csv('dataset.csv')\n",
    "df.head(10)"
   ]
  },
  {
   "cell_type": "code",
   "execution_count": 6,
   "id": "525e99c0",
   "metadata": {},
   "outputs": [
    {
     "name": "stdout",
     "output_type": "stream",
     "text": [
      "<class 'pandas.core.frame.DataFrame'>\n",
      "RangeIndex: 43400 entries, 0 to 43399\n",
      "Data columns (total 12 columns):\n",
      " #   Column             Non-Null Count  Dtype  \n",
      "---  ------             --------------  -----  \n",
      " 0   id                 43400 non-null  int64  \n",
      " 1   gender             43400 non-null  object \n",
      " 2   age                43400 non-null  float64\n",
      " 3   hypertension       43400 non-null  int64  \n",
      " 4   heart_disease      43400 non-null  int64  \n",
      " 5   ever_married       43400 non-null  object \n",
      " 6   work_type          43400 non-null  object \n",
      " 7   Residence_type     43400 non-null  object \n",
      " 8   avg_glucose_level  43400 non-null  float64\n",
      " 9   bmi                41938 non-null  float64\n",
      " 10  smoking_status     30108 non-null  object \n",
      " 11  stroke             43400 non-null  int64  \n",
      "dtypes: float64(3), int64(4), object(5)\n",
      "memory usage: 4.0+ MB\n"
     ]
    }
   ],
   "source": [
    "df.info(verbose=None);"
   ]
  },
  {
   "cell_type": "markdown",
   "id": "98db3379",
   "metadata": {},
   "source": [
    "There are some data missing in the 'bmi', 'smoking status' features"
   ]
  },
  {
   "cell_type": "code",
   "execution_count": 13,
   "id": "95b912f0",
   "metadata": {},
   "outputs": [
    {
     "data": {
      "text/plain": [
       "id                       0\n",
       "gender                   0\n",
       "age                      0\n",
       "hypertension             0\n",
       "heart_disease            0\n",
       "ever_married             0\n",
       "work_type                0\n",
       "Residence_type           0\n",
       "avg_glucose_level        0\n",
       "bmi                   1462\n",
       "smoking_status       13292\n",
       "stroke                   0\n",
       "dtype: int64"
      ]
     },
     "execution_count": 13,
     "metadata": {},
     "output_type": "execute_result"
    }
   ],
   "source": [
    "## how many missing data\n",
    "df.isnull().sum()"
   ]
  },
  {
   "cell_type": "code",
   "execution_count": 15,
   "id": "df1ce7b4",
   "metadata": {},
   "outputs": [
    {
     "name": "stdout",
     "output_type": "stream",
     "text": [
      "<class 'pandas.core.frame.DataFrame'>\n",
      "Int64Index: 29072 entries, 1 to 43399\n",
      "Data columns (total 12 columns):\n",
      " #   Column             Non-Null Count  Dtype  \n",
      "---  ------             --------------  -----  \n",
      " 0   id                 29072 non-null  int64  \n",
      " 1   gender             29072 non-null  object \n",
      " 2   age                29072 non-null  float64\n",
      " 3   hypertension       29072 non-null  int64  \n",
      " 4   heart_disease      29072 non-null  int64  \n",
      " 5   ever_married       29072 non-null  object \n",
      " 6   work_type          29072 non-null  object \n",
      " 7   Residence_type     29072 non-null  object \n",
      " 8   avg_glucose_level  29072 non-null  float64\n",
      " 9   bmi                29072 non-null  float64\n",
      " 10  smoking_status     29072 non-null  object \n",
      " 11  stroke             29072 non-null  int64  \n",
      "dtypes: float64(3), int64(4), object(5)\n",
      "memory usage: 2.9+ MB\n"
     ]
    },
    {
     "data": {
      "text/plain": [
       "(29072, 12)"
      ]
     },
     "execution_count": 15,
     "metadata": {},
     "output_type": "execute_result"
    }
   ],
   "source": [
    "## since we have a lot of data points one simple way to deal with null values is to drop them\n",
    "\n",
    "df.dropna(inplace=True)\n",
    "df.info()\n",
    "df.shape"
   ]
  },
  {
   "cell_type": "code",
   "execution_count": 16,
   "id": "c4e05875",
   "metadata": {},
   "outputs": [
    {
     "data": {
      "text/html": [
       "<div>\n",
       "<style scoped>\n",
       "    .dataframe tbody tr th:only-of-type {\n",
       "        vertical-align: middle;\n",
       "    }\n",
       "\n",
       "    .dataframe tbody tr th {\n",
       "        vertical-align: top;\n",
       "    }\n",
       "\n",
       "    .dataframe thead th {\n",
       "        text-align: right;\n",
       "    }\n",
       "</style>\n",
       "<table border=\"1\" class=\"dataframe\">\n",
       "  <thead>\n",
       "    <tr style=\"text-align: right;\">\n",
       "      <th></th>\n",
       "      <th>id</th>\n",
       "      <th>gender</th>\n",
       "      <th>age</th>\n",
       "      <th>hypertension</th>\n",
       "      <th>heart_disease</th>\n",
       "      <th>ever_married</th>\n",
       "      <th>work_type</th>\n",
       "      <th>Residence_type</th>\n",
       "      <th>avg_glucose_level</th>\n",
       "      <th>bmi</th>\n",
       "      <th>smoking_status</th>\n",
       "      <th>stroke</th>\n",
       "    </tr>\n",
       "  </thead>\n",
       "  <tbody>\n",
       "    <tr>\n",
       "      <th>1</th>\n",
       "      <td>30468</td>\n",
       "      <td>Male</td>\n",
       "      <td>58.0</td>\n",
       "      <td>1</td>\n",
       "      <td>0</td>\n",
       "      <td>Yes</td>\n",
       "      <td>Private</td>\n",
       "      <td>Urban</td>\n",
       "      <td>87.96</td>\n",
       "      <td>39.2</td>\n",
       "      <td>never smoked</td>\n",
       "      <td>0</td>\n",
       "    </tr>\n",
       "    <tr>\n",
       "      <th>3</th>\n",
       "      <td>56543</td>\n",
       "      <td>Female</td>\n",
       "      <td>70.0</td>\n",
       "      <td>0</td>\n",
       "      <td>0</td>\n",
       "      <td>Yes</td>\n",
       "      <td>Private</td>\n",
       "      <td>Rural</td>\n",
       "      <td>69.04</td>\n",
       "      <td>35.9</td>\n",
       "      <td>formerly smoked</td>\n",
       "      <td>0</td>\n",
       "    </tr>\n",
       "    <tr>\n",
       "      <th>6</th>\n",
       "      <td>52800</td>\n",
       "      <td>Female</td>\n",
       "      <td>52.0</td>\n",
       "      <td>0</td>\n",
       "      <td>0</td>\n",
       "      <td>Yes</td>\n",
       "      <td>Private</td>\n",
       "      <td>Urban</td>\n",
       "      <td>77.59</td>\n",
       "      <td>17.7</td>\n",
       "      <td>formerly smoked</td>\n",
       "      <td>0</td>\n",
       "    </tr>\n",
       "    <tr>\n",
       "      <th>7</th>\n",
       "      <td>41413</td>\n",
       "      <td>Female</td>\n",
       "      <td>75.0</td>\n",
       "      <td>0</td>\n",
       "      <td>1</td>\n",
       "      <td>Yes</td>\n",
       "      <td>Self-employed</td>\n",
       "      <td>Rural</td>\n",
       "      <td>243.53</td>\n",
       "      <td>27.0</td>\n",
       "      <td>never smoked</td>\n",
       "      <td>0</td>\n",
       "    </tr>\n",
       "    <tr>\n",
       "      <th>8</th>\n",
       "      <td>15266</td>\n",
       "      <td>Female</td>\n",
       "      <td>32.0</td>\n",
       "      <td>0</td>\n",
       "      <td>0</td>\n",
       "      <td>Yes</td>\n",
       "      <td>Private</td>\n",
       "      <td>Rural</td>\n",
       "      <td>77.67</td>\n",
       "      <td>32.3</td>\n",
       "      <td>smokes</td>\n",
       "      <td>0</td>\n",
       "    </tr>\n",
       "  </tbody>\n",
       "</table>\n",
       "</div>"
      ],
      "text/plain": [
       "      id  gender   age  hypertension  heart_disease ever_married  \\\n",
       "1  30468    Male  58.0             1              0          Yes   \n",
       "3  56543  Female  70.0             0              0          Yes   \n",
       "6  52800  Female  52.0             0              0          Yes   \n",
       "7  41413  Female  75.0             0              1          Yes   \n",
       "8  15266  Female  32.0             0              0          Yes   \n",
       "\n",
       "       work_type Residence_type  avg_glucose_level   bmi   smoking_status  \\\n",
       "1        Private          Urban              87.96  39.2     never smoked   \n",
       "3        Private          Rural              69.04  35.9  formerly smoked   \n",
       "6        Private          Urban              77.59  17.7  formerly smoked   \n",
       "7  Self-employed          Rural             243.53  27.0     never smoked   \n",
       "8        Private          Rural              77.67  32.3           smokes   \n",
       "\n",
       "   stroke  \n",
       "1       0  \n",
       "3       0  \n",
       "6       0  \n",
       "7       0  \n",
       "8       0  "
      ]
     },
     "execution_count": 16,
     "metadata": {},
     "output_type": "execute_result"
    }
   ],
   "source": [
    "df.head()"
   ]
  },
  {
   "cell_type": "code",
   "execution_count": 32,
   "id": "01790e48",
   "metadata": {},
   "outputs": [
    {
     "name": "stdout",
     "output_type": "stream",
     "text": [
      "Stroke occurence in Male:\n",
      "0.02096\n",
      "Stroke occurence in Female:\n",
      "0.01753\n"
     ]
    }
   ],
   "source": [
    "## stroke in male vs female prevailance\n",
    "print('Stroke occurence in Male:')\n",
    "print(round(sum((df['gender']=='Male') & (df['stroke']==1))/sum(df['gender']=='Male'),5))\n",
    "\n",
    "print('Stroke occurence in Female:')\n",
    "print(round(sum((df['gender']=='Female') & (df['stroke']==1))/sum(df['gender']=='Female'),5))"
   ]
  },
  {
   "cell_type": "code",
   "execution_count": 37,
   "id": "4e1e4dcb",
   "metadata": {},
   "outputs": [
    {
     "name": "stdout",
     "output_type": "stream",
     "text": [
      "Stroke occurence in Urban Residence type:\n",
      "0.0191\n",
      "Stroke occurence in Rural Residence type:\n",
      "0.0186\n"
     ]
    }
   ],
   "source": [
    "## Stroke prevailance in urban and rural people\n",
    "print('Stroke occurence in Urban Residence type:')\n",
    "print(round(sum((df['Residence_type']=='Urban') & (df['stroke']==1))/sum(df['Residence_type']=='Urban'),4))\n",
    "\n",
    "print('Stroke occurence in Rural Residence type:')\n",
    "print(round(sum((df['Residence_type']=='Rural') & (df['stroke']==1))/sum(df['Residence_type']=='Rural'),4))"
   ]
  },
  {
   "cell_type": "code",
   "execution_count": 43,
   "id": "bfeda0cc",
   "metadata": {},
   "outputs": [
    {
     "name": "stdout",
     "output_type": "stream",
     "text": [
      "Stroke previlance in married people:\n",
      "0.02264\n",
      "Stroke previlance in unmarried people:\n",
      "0.00772\n"
     ]
    }
   ],
   "source": [
    "## Stroke previlance in married people:\n",
    "print('Stroke previlance in married people:')\n",
    "print(round(sum((df['ever_married']=='Yes') & (df['stroke']==1))/sum(df['ever_married']=='Yes'),5))\n",
    "\n",
    "print('Stroke previlance in unmarried people:')\n",
    "print(round(sum((df['ever_married']=='No') & (df['stroke']==1))/sum(df['ever_married']=='No'),5))"
   ]
  },
  {
   "cell_type": "markdown",
   "id": "43858537",
   "metadata": {},
   "source": [
    " **Classification Models**"
   ]
  },
  {
   "cell_type": "code",
   "execution_count": 74,
   "id": "05dc53b9",
   "metadata": {},
   "outputs": [
    {
     "data": {
      "text/plain": [
       "Text(0, 0.5, 'Glucose Level')"
      ]
     },
     "execution_count": 74,
     "metadata": {},
     "output_type": "execute_result"
    },
    {
     "data": {
      "image/png": "[encoded data removed]",
      "text/plain": [
       "<Figure size 1500x300 with 3 Axes>"
      ]
     },
     "metadata": {},
     "output_type": "display_data"
    }
   ],
   "source": [
    "## Classification Nearest Neighbour model\n",
    "## let's Use the following three float type features: 'Age','avg_glucose_level','bmi'\n",
    "\n",
    "## let's try to plot the data for a visualization\n",
    "fig,axes=plt.subplots(1,3,figsize=(15,3))\n",
    "axes[0].scatter(df.loc[df['stroke']==1,'age'][0:200],df.loc[df['stroke']==1,'bmi'][0:200],c='red',label='stroke')\n",
    "axes[0].scatter(df.loc[df['stroke']==0,'age'][0:200],df.loc[df['stroke']==0,'bmi'][0:200],c='green',label='No stroke')\n",
    "axes[0].set_xlabel('BMI')\n",
    "axes[0].set_ylabel('Age')\n",
    "axes[0].legend()\n",
    "axes[1].scatter(df.loc[df['stroke']==1,'age'][0:200],df.loc[df['stroke']==1,'avg_glucose_level'][0:200],c='red',label='stroke')\n",
    "axes[1].scatter(df.loc[df['stroke']==0,'age'][0:200],df.loc[df['stroke']==0,'avg_glucose_level'][0:200],c='green',label='No stroke')\n",
    "axes[1].set_xlabel('Age')\n",
    "axes[1].set_ylabel('Glucose Level')\n",
    "axes[2].scatter(df.loc[df['stroke']==1,'bmi'][0:200],df.loc[df['stroke']==1,'avg_glucose_level'][0:200],c='red',label='stroke')\n",
    "axes[2].scatter(df.loc[df['stroke']==0,'bmi'][0:200],df.loc[df['stroke']==0,'avg_glucose_level'][0:200],c='green',label='No stroke')\n",
    "axes[2].set_xlabel('BMI')\n",
    "axes[2].set_ylabel('Glucose Level')"
   ]
  },
  {
   "cell_type": "markdown",
   "id": "1cb6e34b",
   "metadata": {},
   "source": [
    "From above figures it is indicative that Age is a more reliable feature than BMI and Glucose level"
   ]
  },
  {
   "cell_type": "code",
   "execution_count": 96,
   "id": "820c746a",
   "metadata": {},
   "outputs": [],
   "source": [
    "###### K Nearest Neighbor Model   ########\n",
    "from sklearn.model_selection import train_test_split\n",
    "## lets split data into training and test data set\n",
    "x_train,x_test,y_train,y_test=train_test_split(df[['age','bmi','avg_glucose_level']],df['stroke'],random_state=0)\n"
   ]
  },
  {
   "cell_type": "code",
   "execution_count": 97,
   "id": "b44c98eb",
   "metadata": {},
   "outputs": [
    {
     "data": {
      "text/plain": [
       "(21804, 3)"
      ]
     },
     "execution_count": 97,
     "metadata": {},
     "output_type": "execute_result"
    }
   ],
   "source": [
    "x_train.shape"
   ]
  },
  {
   "cell_type": "code",
   "execution_count": 98,
   "id": "081b1a5a",
   "metadata": {},
   "outputs": [
    {
     "data": {
      "text/plain": [
       "(7268, 3)"
      ]
     },
     "execution_count": 98,
     "metadata": {},
     "output_type": "execute_result"
    }
   ],
   "source": [
    "x_test.shape"
   ]
  },
  {
   "cell_type": "code",
   "execution_count": 106,
   "id": "abf1e5b4",
   "metadata": {},
   "outputs": [
    {
     "name": "stdout",
     "output_type": "stream",
     "text": [
      "Training set accuracy:0.982\n",
      "Test set accuracy:0.979\n"
     ]
    }
   ],
   "source": [
    "from sklearn.neighbors import KNeighborsClassifier\n",
    "## lets choose 4 neighbors\n",
    "clf=KNeighborsClassifier(n_neighbors=4)\n",
    "clf.fit(x_train,y_train)\n",
    "print('Training set accuracy:{:.3f}'.format(clf.score(x_train,y_train)))\n",
    "print('Test set accuracy:{:.3f}'.format(clf.score(x_test,y_test)))"
   ]
  },
  {
   "cell_type": "code",
   "execution_count": 105,
   "id": "28059072",
   "metadata": {},
   "outputs": [
    {
     "data": {
      "text/plain": [
       "548"
      ]
     },
     "execution_count": 105,
     "metadata": {},
     "output_type": "execute_result"
    }
   ],
   "source": [
    "sum(df['stroke']==1) # Number of stroke 1 in data set"
   ]
  },
  {
   "cell_type": "code",
   "execution_count": 107,
   "id": "79c771b3",
   "metadata": {},
   "outputs": [],
   "source": [
    "## This type high accuracy is not correct. As we see very small amount data in the dataset belong to class=1 .\n",
    "# This might be leading to high accuracy Since there are mostly class=0 data in dataset, the model is getting biased to \n",
    "## predict class as 0 which accidentally gives correct result due to dataset distribution"
   ]
  },
  {
   "cell_type": "code",
   "execution_count": 108,
   "id": "b002a9c2",
   "metadata": {},
   "outputs": [],
   "source": [
    "## We can choose a set of data from this data set where class 0 and class 1 is well mixed"
   ]
  },
  {
   "cell_type": "code",
   "execution_count": 115,
   "id": "1913dc46",
   "metadata": {},
   "outputs": [],
   "source": [
    "frames=[ \n",
    "    df.loc[df['stroke']==1,['age','bmi','avg_glucose_level','stroke']],\n",
    "    df.loc[df['stroke']==0,['age','bmi','avg_glucose_level','stroke']][0:700]\n",
    "    ]\n",
    "df_mix=pd.concat(frames)"
   ]
  },
  {
   "cell_type": "code",
   "execution_count": 116,
   "id": "b98423fd",
   "metadata": {},
   "outputs": [
    {
     "data": {
      "text/html": [
       "<div>\n",
       "<style scoped>\n",
       "    .dataframe tbody tr th:only-of-type {\n",
       "        vertical-align: middle;\n",
       "    }\n",
       "\n",
       "    .dataframe tbody tr th {\n",
       "        vertical-align: top;\n",
       "    }\n",
       "\n",
       "    .dataframe thead th {\n",
       "        text-align: right;\n",
       "    }\n",
       "</style>\n",
       "<table border=\"1\" class=\"dataframe\">\n",
       "  <thead>\n",
       "    <tr style=\"text-align: right;\">\n",
       "      <th></th>\n",
       "      <th>age</th>\n",
       "      <th>bmi</th>\n",
       "      <th>avg_glucose_level</th>\n",
       "      <th>stroke</th>\n",
       "    </tr>\n",
       "  </thead>\n",
       "  <tbody>\n",
       "    <tr>\n",
       "      <th>63</th>\n",
       "      <td>67.0</td>\n",
       "      <td>36.6</td>\n",
       "      <td>228.69</td>\n",
       "      <td>1</td>\n",
       "    </tr>\n",
       "    <tr>\n",
       "      <th>141</th>\n",
       "      <td>80.0</td>\n",
       "      <td>32.5</td>\n",
       "      <td>105.92</td>\n",
       "      <td>1</td>\n",
       "    </tr>\n",
       "    <tr>\n",
       "      <th>257</th>\n",
       "      <td>49.0</td>\n",
       "      <td>34.4</td>\n",
       "      <td>171.23</td>\n",
       "      <td>1</td>\n",
       "    </tr>\n",
       "    <tr>\n",
       "      <th>264</th>\n",
       "      <td>79.0</td>\n",
       "      <td>24.0</td>\n",
       "      <td>174.12</td>\n",
       "      <td>1</td>\n",
       "    </tr>\n",
       "    <tr>\n",
       "      <th>288</th>\n",
       "      <td>81.0</td>\n",
       "      <td>29.0</td>\n",
       "      <td>186.21</td>\n",
       "      <td>1</td>\n",
       "    </tr>\n",
       "    <tr>\n",
       "      <th>...</th>\n",
       "      <td>...</td>\n",
       "      <td>...</td>\n",
       "      <td>...</td>\n",
       "      <td>...</td>\n",
       "    </tr>\n",
       "    <tr>\n",
       "      <th>1032</th>\n",
       "      <td>48.0</td>\n",
       "      <td>26.5</td>\n",
       "      <td>63.33</td>\n",
       "      <td>0</td>\n",
       "    </tr>\n",
       "    <tr>\n",
       "      <th>1033</th>\n",
       "      <td>38.0</td>\n",
       "      <td>43.7</td>\n",
       "      <td>69.34</td>\n",
       "      <td>0</td>\n",
       "    </tr>\n",
       "    <tr>\n",
       "      <th>1035</th>\n",
       "      <td>63.0</td>\n",
       "      <td>46.2</td>\n",
       "      <td>66.13</td>\n",
       "      <td>0</td>\n",
       "    </tr>\n",
       "    <tr>\n",
       "      <th>1036</th>\n",
       "      <td>37.0</td>\n",
       "      <td>49.5</td>\n",
       "      <td>67.53</td>\n",
       "      <td>0</td>\n",
       "    </tr>\n",
       "    <tr>\n",
       "      <th>1037</th>\n",
       "      <td>20.0</td>\n",
       "      <td>43.3</td>\n",
       "      <td>96.58</td>\n",
       "      <td>0</td>\n",
       "    </tr>\n",
       "  </tbody>\n",
       "</table>\n",
       "<p>1248 rows × 4 columns</p>\n",
       "</div>"
      ],
      "text/plain": [
       "       age   bmi  avg_glucose_level  stroke\n",
       "63    67.0  36.6             228.69       1\n",
       "141   80.0  32.5             105.92       1\n",
       "257   49.0  34.4             171.23       1\n",
       "264   79.0  24.0             174.12       1\n",
       "288   81.0  29.0             186.21       1\n",
       "...    ...   ...                ...     ...\n",
       "1032  48.0  26.5              63.33       0\n",
       "1033  38.0  43.7              69.34       0\n",
       "1035  63.0  46.2              66.13       0\n",
       "1036  37.0  49.5              67.53       0\n",
       "1037  20.0  43.3              96.58       0\n",
       "\n",
       "[1248 rows x 4 columns]"
      ]
     },
     "execution_count": 116,
     "metadata": {},
     "output_type": "execute_result"
    }
   ],
   "source": [
    "df_mix"
   ]
  },
  {
   "cell_type": "code",
   "execution_count": 117,
   "id": "abef0b6d",
   "metadata": {},
   "outputs": [],
   "source": [
    "x_train,x_test,y_train,y_test=train_test_split(df_mix[['age','bmi','avg_glucose_level']],df_mix['stroke'],shuffle=True)\n"
   ]
  },
  {
   "cell_type": "code",
   "execution_count": 120,
   "id": "f085fa74",
   "metadata": {},
   "outputs": [
    {
     "data": {
      "text/plain": [
       "105      0\n",
       "4195     1\n",
       "7985     1\n",
       "632      0\n",
       "22549    1\n",
       "        ..\n",
       "646      0\n",
       "35597    1\n",
       "672      0\n",
       "474      0\n",
       "24093    1\n",
       "Name: stroke, Length: 936, dtype: int64"
      ]
     },
     "execution_count": 120,
     "metadata": {},
     "output_type": "execute_result"
    }
   ],
   "source": [
    "y_train"
   ]
  },
  {
   "cell_type": "code",
   "execution_count": 121,
   "id": "b3300f9f",
   "metadata": {},
   "outputs": [],
   "source": [
    "## Now the classes are well mixed"
   ]
  },
  {
   "cell_type": "code",
   "execution_count": 123,
   "id": "a6862ece",
   "metadata": {},
   "outputs": [
    {
     "name": "stdout",
     "output_type": "stream",
     "text": [
      "Training set accuracy:0.798\n",
      "Test set accuracy:0.696\n"
     ]
    }
   ],
   "source": [
    "clf=KNeighborsClassifier(n_neighbors=4)\n",
    "clf.fit(x_train,y_train)\n",
    "print('Training set accuracy:{:.3f}'.format(clf.score(x_train,y_train)))\n",
    "print('Test set accuracy:{:.3f}'.format(clf.score(x_test,y_test)))"
   ]
  },
  {
   "cell_type": "code",
   "execution_count": 124,
   "id": "da12092e",
   "metadata": {},
   "outputs": [],
   "source": [
    "## This training and test accuracy seems much more realistic to the plots as we had seen. The two classes are not very clearly \n",
    "## separated so we odn't expect the KNN method to work well"
   ]
  },
  {
   "cell_type": "code",
   "execution_count": 125,
   "id": "a134c9a2",
   "metadata": {},
   "outputs": [
    {
     "name": "stdout",
     "output_type": "stream",
     "text": [
      "Training set accuracy:0.795\n",
      "Test set accuracy:0.715\n"
     ]
    }
   ],
   "source": [
    "# with 6 neighbors\n",
    "clf=KNeighborsClassifier(n_neighbors=6)\n",
    "clf.fit(x_train,y_train)\n",
    "print('Training set accuracy:{:.3f}'.format(clf.score(x_train,y_train)))\n",
    "print('Test set accuracy:{:.3f}'.format(clf.score(x_test,y_test)))"
   ]
  },
  {
   "cell_type": "code",
   "execution_count": 126,
   "id": "b6b98412",
   "metadata": {},
   "outputs": [
    {
     "name": "stdout",
     "output_type": "stream",
     "text": [
      "Training set accuracy:0.790\n",
      "Test set accuracy:0.731\n"
     ]
    }
   ],
   "source": [
    "# with 8 neighbors\n",
    "clf=KNeighborsClassifier(n_neighbors=8)\n",
    "clf.fit(x_train,y_train)\n",
    "print('Training set accuracy:{:.3f}'.format(clf.score(x_train,y_train)))\n",
    "print('Test set accuracy:{:.3f}'.format(clf.score(x_test,y_test)))"
   ]
  },
  {
   "cell_type": "code",
   "execution_count": 137,
   "id": "bd4b114a",
   "metadata": {},
   "outputs": [
    {
     "data": {
      "image/png": "[encoded data removed]",
      "text/plain": [
       "<Figure size 640x480 with 1 Axes>"
      ]
     },
     "metadata": {},
     "output_type": "display_data"
    }
   ],
   "source": [
    "train_acc=[]\n",
    "test_acc=[]\n",
    "neighbor=[]\n",
    "for n in range(1,40):\n",
    "    clf=KNeighborsClassifier(n_neighbors=n)\n",
    "    clf.fit(x_train,y_train)\n",
    "    neighbor.append(n)\n",
    "    train_acc.append(clf.score(x_train,y_train))\n",
    "    test_acc.append(clf.score(x_test,y_test))\n",
    "plt.plot(neighbor,train_acc,label='Training Accuracy',c='red')\n",
    "plt.plot(neighbor,test_acc,label='Test Accuracy',c='blue')\n",
    "plt.ylabel('Accuracy')\n",
    "plt.xlabel('# Neighbors')\n",
    "plt.title('KNN Model Accuracy vs N neighbors')\n",
    "plt.legend();\n"
   ]
  },
  {
   "cell_type": "code",
   "execution_count": 138,
   "id": "11e116bc",
   "metadata": {},
   "outputs": [],
   "source": [
    "### Linear Model: Logistic Regression #############\n"
   ]
  },
  {
   "cell_type": "code",
   "execution_count": 164,
   "id": "806a2f6a",
   "metadata": {},
   "outputs": [
    {
     "name": "stdout",
     "output_type": "stream",
     "text": [
      "[[ 0.31770584 -0.82440177  1.03463083]\n",
      " [ 0.         -0.1434052  -0.74930974]\n",
      " [ 1.21787237  1.00577653 -0.82520658]\n",
      " [-0.90016654  0.62271595  0.03556573]\n",
      " [ 0.74131362  1.20440053  2.65911507]\n",
      " [-0.63541167  0.90646453 -0.87811543]\n",
      " [ 0.15885292 -1.15071263 -0.56978453]\n",
      " [-0.10590195 -0.56902806 -0.14560148]\n",
      " [ 1.21787237  0.65109081  1.81877653]\n",
      " [ 1.1649214  -0.29946691 -0.9483565 ]]\n"
     ]
    }
   ],
   "source": [
    "from sklearn.linear_model import LogisticRegression\n",
    "from sklearn.preprocessing import StandardScaler\n",
    "# clf=LogisticRegression.fit(x_train,y_train)\n",
    "\n",
    "x = df_mix[['age','bmi','avg_glucose_level']].values \n",
    "y = df_mix['stroke'].values\n",
    "x_train, x_test, y_train, y_test = train_test_split( \n",
    "    x, y, test_size=0.25, random_state=0)\n",
    "## Transform dataset\n",
    "sc_x = StandardScaler() \n",
    "x_train = sc_x.fit_transform(x_train) \n",
    "x_test = sc_x.transform(x_test) \n",
    "  \n",
    "print (x_train[0:10, :])"
   ]
  },
  {
   "cell_type": "code",
   "execution_count": 149,
   "id": "e0503ff6",
   "metadata": {},
   "outputs": [
    {
     "name": "stdout",
     "output_type": "stream",
     "text": [
      "Training set accuracy:0.747\n",
      "Test set accuracy:0.769\n"
     ]
    }
   ],
   "source": [
    "clf = LogisticRegression(random_state = 0).fit(x_train, y_train) \n",
    "\n",
    "print('Training set accuracy:{:.3f}'.format(clf.score(x_train,y_train)))\n",
    "print('Test set accuracy:{:.3f}'.format(clf.score(x_test,y_test)))\n"
   ]
  },
  {
   "cell_type": "code",
   "execution_count": 146,
   "id": "125ccdc0",
   "metadata": {},
   "outputs": [],
   "source": [
    "## Parameter C in Logistic resgression Regularization C low value-->Lot of regularization/ more generalization \n",
    "## C-->high value--->More complex model "
   ]
  },
  {
   "cell_type": "code",
   "execution_count": 150,
   "id": "3cd2b16b",
   "metadata": {},
   "outputs": [
    {
     "name": "stdout",
     "output_type": "stream",
     "text": [
      "Training set accuracy:0.747\n",
      "Test set accuracy:0.769\n"
     ]
    }
   ],
   "source": [
    "clf = LogisticRegression(C=10).fit(x_train, y_train) \n",
    "\n",
    "print('Training set accuracy:{:.3f}'.format(clf.score(x_train,y_train)))\n",
    "print('Test set accuracy:{:.3f}'.format(clf.score(x_test,y_test)))\n"
   ]
  },
  {
   "cell_type": "code",
   "execution_count": 151,
   "id": "949132a5",
   "metadata": {},
   "outputs": [
    {
     "name": "stdout",
     "output_type": "stream",
     "text": [
      "Training set accuracy:0.747\n",
      "Test set accuracy:0.769\n"
     ]
    }
   ],
   "source": [
    "clf = LogisticRegression(C=100).fit(x_train, y_train)\n",
    "\n",
    "print('Training set accuracy:{:.3f}'.format(clf.score(x_train,y_train)))\n",
    "print('Test set accuracy:{:.3f}'.format(clf.score(x_test,y_test)))\n"
   ]
  },
  {
   "cell_type": "code",
   "execution_count": 152,
   "id": "841b490c",
   "metadata": {},
   "outputs": [],
   "source": [
    "###        Linear Support Vector Machine Model  #########"
   ]
  },
  {
   "cell_type": "code",
   "execution_count": 166,
   "id": "5afcc50a",
   "metadata": {},
   "outputs": [
    {
     "name": "stdout",
     "output_type": "stream",
     "text": [
      "Training set accuracy:0.756\n",
      "Test set accuracy:0.744\n"
     ]
    }
   ],
   "source": [
    "from sklearn.svm import LinearSVC\n",
    "x_train,x_test,y_train,y_test=train_test_split(df_mix[['age','bmi','avg_glucose_level']],df_mix['stroke'],shuffle=True)\n",
    "\n",
    "clf = LinearSVC(dual='auto').fit(x_train, y_train) \n",
    "\n",
    "print('Training set accuracy:{:.3f}'.format(clf.score(x_train,y_train)))\n",
    "print('Test set accuracy:{:.3f}'.format(clf.score(x_test,y_test)))\n"
   ]
  },
  {
   "cell_type": "code",
   "execution_count": 168,
   "id": "d2770d7f",
   "metadata": {},
   "outputs": [],
   "source": [
    "###    Decision Tree Model  ##########################"
   ]
  },
  {
   "cell_type": "code",
   "execution_count": 205,
   "id": "a6c98f9e",
   "metadata": {},
   "outputs": [],
   "source": [
    "## Let's Use More features in this model "
   ]
  },
  {
   "cell_type": "code",
   "execution_count": 172,
   "id": "75a178d9",
   "metadata": {},
   "outputs": [],
   "source": [
    "frames=[ \n",
    "    df.loc[df['stroke']==1,:],\n",
    "    df.loc[df['stroke']==0,:][0:700]\n",
    "    ]\n",
    "df_mix_t=pd.concat(frames)"
   ]
  },
  {
   "cell_type": "code",
   "execution_count": 179,
   "id": "252764c4",
   "metadata": {},
   "outputs": [
    {
     "data": {
      "text/html": [
       "<div>\n",
       "<style scoped>\n",
       "    .dataframe tbody tr th:only-of-type {\n",
       "        vertical-align: middle;\n",
       "    }\n",
       "\n",
       "    .dataframe tbody tr th {\n",
       "        vertical-align: top;\n",
       "    }\n",
       "\n",
       "    .dataframe thead th {\n",
       "        text-align: right;\n",
       "    }\n",
       "</style>\n",
       "<table border=\"1\" class=\"dataframe\">\n",
       "  <thead>\n",
       "    <tr style=\"text-align: right;\">\n",
       "      <th></th>\n",
       "      <th>id</th>\n",
       "      <th>gender</th>\n",
       "      <th>age</th>\n",
       "      <th>hypertension</th>\n",
       "      <th>heart_disease</th>\n",
       "      <th>ever_married</th>\n",
       "      <th>work_type</th>\n",
       "      <th>Residence_type</th>\n",
       "      <th>avg_glucose_level</th>\n",
       "      <th>bmi</th>\n",
       "      <th>smoking_status</th>\n",
       "      <th>stroke</th>\n",
       "    </tr>\n",
       "  </thead>\n",
       "  <tbody>\n",
       "    <tr>\n",
       "      <th>63</th>\n",
       "      <td>9046</td>\n",
       "      <td>Male</td>\n",
       "      <td>67.0</td>\n",
       "      <td>0</td>\n",
       "      <td>1</td>\n",
       "      <td>Yes</td>\n",
       "      <td>Private</td>\n",
       "      <td>Urban</td>\n",
       "      <td>228.69</td>\n",
       "      <td>36.6</td>\n",
       "      <td>formerly smoked</td>\n",
       "      <td>1</td>\n",
       "    </tr>\n",
       "    <tr>\n",
       "      <th>141</th>\n",
       "      <td>31112</td>\n",
       "      <td>Male</td>\n",
       "      <td>80.0</td>\n",
       "      <td>0</td>\n",
       "      <td>1</td>\n",
       "      <td>Yes</td>\n",
       "      <td>Private</td>\n",
       "      <td>Rural</td>\n",
       "      <td>105.92</td>\n",
       "      <td>32.5</td>\n",
       "      <td>never smoked</td>\n",
       "      <td>1</td>\n",
       "    </tr>\n",
       "    <tr>\n",
       "      <th>257</th>\n",
       "      <td>60182</td>\n",
       "      <td>Female</td>\n",
       "      <td>49.0</td>\n",
       "      <td>0</td>\n",
       "      <td>0</td>\n",
       "      <td>Yes</td>\n",
       "      <td>Private</td>\n",
       "      <td>Urban</td>\n",
       "      <td>171.23</td>\n",
       "      <td>34.4</td>\n",
       "      <td>smokes</td>\n",
       "      <td>1</td>\n",
       "    </tr>\n",
       "    <tr>\n",
       "      <th>264</th>\n",
       "      <td>1665</td>\n",
       "      <td>Female</td>\n",
       "      <td>79.0</td>\n",
       "      <td>1</td>\n",
       "      <td>0</td>\n",
       "      <td>Yes</td>\n",
       "      <td>Self-employed</td>\n",
       "      <td>Rural</td>\n",
       "      <td>174.12</td>\n",
       "      <td>24.0</td>\n",
       "      <td>never smoked</td>\n",
       "      <td>1</td>\n",
       "    </tr>\n",
       "    <tr>\n",
       "      <th>288</th>\n",
       "      <td>56669</td>\n",
       "      <td>Male</td>\n",
       "      <td>81.0</td>\n",
       "      <td>0</td>\n",
       "      <td>0</td>\n",
       "      <td>Yes</td>\n",
       "      <td>Private</td>\n",
       "      <td>Urban</td>\n",
       "      <td>186.21</td>\n",
       "      <td>29.0</td>\n",
       "      <td>formerly smoked</td>\n",
       "      <td>1</td>\n",
       "    </tr>\n",
       "  </tbody>\n",
       "</table>\n",
       "</div>"
      ],
      "text/plain": [
       "        id  gender   age  hypertension  heart_disease ever_married  \\\n",
       "63    9046    Male  67.0             0              1          Yes   \n",
       "141  31112    Male  80.0             0              1          Yes   \n",
       "257  60182  Female  49.0             0              0          Yes   \n",
       "264   1665  Female  79.0             1              0          Yes   \n",
       "288  56669    Male  81.0             0              0          Yes   \n",
       "\n",
       "         work_type Residence_type  avg_glucose_level   bmi   smoking_status  \\\n",
       "63         Private          Urban             228.69  36.6  formerly smoked   \n",
       "141        Private          Rural             105.92  32.5     never smoked   \n",
       "257        Private          Urban             171.23  34.4           smokes   \n",
       "264  Self-employed          Rural             174.12  24.0     never smoked   \n",
       "288        Private          Urban             186.21  29.0  formerly smoked   \n",
       "\n",
       "     stroke  \n",
       "63        1  \n",
       "141       1  \n",
       "257       1  \n",
       "264       1  \n",
       "288       1  "
      ]
     },
     "execution_count": 179,
     "metadata": {},
     "output_type": "execute_result"
    }
   ],
   "source": [
    "df_mix_t.head()"
   ]
  },
  {
   "cell_type": "code",
   "execution_count": 193,
   "id": "2aad0081",
   "metadata": {},
   "outputs": [],
   "source": [
    "x_train,x_test,y_train,y_test=train_test_split(\n",
    "    df_mix_t[['age','hypertension','heart_disease',\n",
    "            'bmi','avg_glucose_level']],\n",
    "    df_mix_t['stroke'],shuffle=True)\n"
   ]
  },
  {
   "cell_type": "code",
   "execution_count": 194,
   "id": "e071426f",
   "metadata": {},
   "outputs": [
    {
     "data": {
      "text/plain": [
       "510      0\n",
       "35082    1\n",
       "11884    1\n",
       "394      0\n",
       "18533    1\n",
       "        ..\n",
       "29285    1\n",
       "217      0\n",
       "12133    1\n",
       "12876    1\n",
       "238      0\n",
       "Name: stroke, Length: 936, dtype: int64"
      ]
     },
     "execution_count": 194,
     "metadata": {},
     "output_type": "execute_result"
    }
   ],
   "source": [
    "y_train"
   ]
  },
  {
   "cell_type": "code",
   "execution_count": 195,
   "id": "0f608a28",
   "metadata": {},
   "outputs": [
    {
     "name": "stdout",
     "output_type": "stream",
     "text": [
      "Training score:1.000\n",
      "Test score:0.676\n"
     ]
    }
   ],
   "source": [
    "from sklearn.tree import DecisionTreeClassifier\n",
    "tree=DecisionTreeClassifier(random_state=0)\n",
    "tree.fit(x_train,y_train)\n",
    "\n",
    "print('Training score:{:.3f}'.format(tree.score(x_train, y_train)))\n",
    "print('Test score:{:.3f}'.format(tree.score(x_test,y_test)))\n"
   ]
  },
  {
   "cell_type": "code",
   "execution_count": 196,
   "id": "2c91f3bc",
   "metadata": {},
   "outputs": [],
   "source": [
    "## As expected the training score is 1. The tree fits exactly to all available data points in training set\n",
    "## To avoid the overfitting We can control the depth of the tree model"
   ]
  },
  {
   "cell_type": "code",
   "execution_count": 197,
   "id": "0b20a8f5",
   "metadata": {},
   "outputs": [
    {
     "name": "stdout",
     "output_type": "stream",
     "text": [
      "Training score:0.794\n",
      "Test score:0.740\n"
     ]
    }
   ],
   "source": [
    "from sklearn.tree import DecisionTreeClassifier\n",
    "tree=DecisionTreeClassifier(max_depth=4,random_state=0)\n",
    "tree.fit(x_train,y_train)\n",
    "\n",
    "print('Training score:{:.3f}'.format(tree.score(x_train, y_train)))\n",
    "print('Test score:{:.3f}'.format(tree.score(x_test,y_test)))\n"
   ]
  },
  {
   "cell_type": "code",
   "execution_count": 198,
   "id": "6d6a4c99",
   "metadata": {},
   "outputs": [],
   "source": [
    "## Even though the training score is not perfect the test score has improved"
   ]
  },
  {
   "cell_type": "code",
   "execution_count": 203,
   "id": "3e674132",
   "metadata": {},
   "outputs": [
    {
     "name": "stdout",
     "output_type": "stream",
     "text": [
      "Training score:0.831\n",
      "Test score:0.744\n"
     ]
    }
   ],
   "source": [
    "from sklearn.tree import DecisionTreeClassifier\n",
    "tree=DecisionTreeClassifier(max_depth=6,random_state=0)\n",
    "tree.fit(x_train,y_train)\n",
    "\n",
    "print('Training score:{:.3f}'.format(tree.score(x_train, y_train)))\n",
    "print('Test score:{:.3f}'.format(tree.score(x_test,y_test)))\n"
   ]
  },
  {
   "cell_type": "code",
   "execution_count": 204,
   "id": "4d6f2525",
   "metadata": {},
   "outputs": [
    {
     "name": "stdout",
     "output_type": "stream",
     "text": [
      "Feature importance :\n",
      "[0.6863092  0.00298521 0.01409769 0.09001451 0.20659338]\n"
     ]
    }
   ],
   "source": [
    "print('Feature importance :\\n{}'.format(tree.feature_importances_))"
   ]
  },
  {
   "cell_type": "code",
   "execution_count": 209,
   "id": "9ebf9eab",
   "metadata": {},
   "outputs": [
    {
     "data": {
      "text/plain": [
       "Text(0, 0.5, 'feature')"
      ]
     },
     "execution_count": 209,
     "metadata": {},
     "output_type": "execute_result"
    },
    {
     "data": {
      "image/png": "[encoded data removed]",
      "text/plain": [
       "<Figure size 640x480 with 1 Axes>"
      ]
     },
     "metadata": {},
     "output_type": "display_data"
    }
   ],
   "source": [
    "features=['age','hypertension','heart_disease','bmi','avg_glucose_level']\n",
    "n_features=len(features)\n",
    "plt.barh(range(n_features), tree.feature_importances_,align='center')\n",
    "plt.yticks(np.arange(n_features),features)\n",
    "plt.xlabel('Feature importance')\n",
    "plt.ylabel('feature')"
   ]
  },
  {
   "cell_type": "code",
   "execution_count": null,
   "id": "6f3c68a1",
   "metadata": {},
   "outputs": [],
   "source": []
  }
 ],
 "metadata": {
  "kernelspec": {
   "display_name": "Python 3 (ipykernel)",
   "language": "python",
   "name": "python3"
  },
  "language_info": {
   "codemirror_mode": {
    "name": "ipython",
    "version": 3
   },
   "file_extension": ".py",
   "mimetype": "text/x-python",
   "name": "python",
   "nbconvert_exporter": "python",
   "pygments_lexer": "ipython3",
   "version": "3.11.4"
  }
 },
 "nbformat": 4,
 "nbformat_minor": 5
}
